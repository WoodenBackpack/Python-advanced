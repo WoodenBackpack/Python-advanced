{
 "cells": [
  {
   "cell_type": "markdown",
   "metadata": {
    "slideshow": {
     "slide_type": "slide"
    }
   },
   "source": [
    "FUNCTIONS AND SCRIPTS ARGUMENTS"
   ]
  },
  {
   "cell_type": "raw",
   "metadata": {
    "slideshow": {
     "slide_type": "slide"
    }
   },
   "source": [
    "I Positional and keyword-only arguments"
   ]
  },
  {
   "cell_type": "code",
   "execution_count": 2,
   "metadata": {
    "slideshow": {
     "slide_type": "subslide"
    }
   },
   "outputs": [],
   "source": [
    "def foo(a, b, c):\n",
    "    print(a, b, c)"
   ]
  },
  {
   "cell_type": "code",
   "execution_count": 3,
   "metadata": {
    "slideshow": {
     "slide_type": "subslide"
    }
   },
   "outputs": [
    {
     "name": "stdout",
     "output_type": "stream",
     "text": [
      "[2, 3, 5]\n",
      "3 5 2\n",
      "3 5 2\n"
     ]
    }
   ],
   "source": [
    "def foo(a, b, c, srt = False):\n",
    "    if srt : print(a, b, c)\n",
    "    else: print(sorted((a,b,c)))\n",
    "\n",
    "foo(3, 5, 2)             # 3, 5, 2\n",
    "foo(3, 5, 2, srt = True) # 2, 3, 5\n",
    "foo(3, 5, 2, True)       # 2, 3, 5"
   ]
  },
  {
   "cell_type": "raw",
   "metadata": {
    "slideshow": {
     "slide_type": "slide"
    }
   },
   "source": [
    "How to avoid passing arguments implicity like in last function call?"
   ]
  },
  {
   "cell_type": "code",
   "execution_count": 6,
   "metadata": {
    "slideshow": {
     "slide_type": "subslide"
    }
   },
   "outputs": [
    {
     "name": "stdout",
     "output_type": "stream",
     "text": [
      "[2, 3, 5]\n",
      "3 5 2\n"
     ]
    }
   ],
   "source": [
    "def foo(a, b, c, *, srt = False):\n",
    "    if srt : print(a, b, c)\n",
    "    else: print(sorted((a,b,c)))\n",
    "\n",
    "foo(3, 5, 2)             # 3, 5, 2\n",
    "foo(3, 5, 2, srt = True) # 2, 3, 5\n",
    "#foo(3, 5, 2, True)       # error"
   ]
  },
  {
   "cell_type": "raw",
   "metadata": {
    "slideshow": {
     "slide_type": "slide"
    }
   },
   "source": [
    "The \"*\" sign as a argument means that after this every argument should be passes explicitly as a named argument, but what if there is no default value and user must to provide that argument?"
   ]
  },
  {
   "cell_type": "code",
   "execution_count": 15,
   "metadata": {
    "slideshow": {
     "slide_type": "subslide"
    }
   },
   "outputs": [
    {
     "name": "stdout",
     "output_type": "stream",
     "text": [
      "3 5 2\n",
      "[2, 3, 5]\n"
     ]
    }
   ],
   "source": [
    "def foo(a, b, c, *, srt):\n",
    "    if srt : print(a, b, c)\n",
    "    else: print(sorted([a, b, c]))\n",
    "\n",
    "#foo(3, 5, 2)              # TypeError: foo() missing 1 required keyword-only argument: 'srt'\n",
    "foo(3, 5, 2, srt = True)  # 2, 3, 5\n",
    "foo(3, 5, 2, srt = False) # 3, 5, 2\n",
    "#foo(3, 5, 2, True)        # TypeError: foo() takes 3 positional arguments but 4 were given"
   ]
  },
  {
   "cell_type": "raw",
   "metadata": {
    "slideshow": {
     "slide_type": "slide"
    }
   },
   "source": [
    "II args and kwargs"
   ]
  },
  {
   "cell_type": "raw",
   "metadata": {
    "slideshow": {
     "slide_type": "slide"
    }
   },
   "source": [
    "What if we don't know how many arguments should be passed to our function?"
   ]
  },
  {
   "cell_type": "code",
   "execution_count": 8,
   "metadata": {
    "slideshow": {
     "slide_type": "subslide"
    }
   },
   "outputs": [
    {
     "name": "stdout",
     "output_type": "stream",
     "text": [
      "1 2 3\n",
      "\n",
      "1 2 3\n",
      "-b\n",
      "1 2 3\n",
      "-b -c -quiet\n"
     ]
    }
   ],
   "source": [
    "def foo(a, b, c, *args):\n",
    "    print(a, b, c)\n",
    "    print(\" \".join(args))\n",
    "\n",
    "foo(1,2,3)                        # 1, 2, 3\n",
    "foo(1,2,3, \"-b\")                  # 1, 2, 3\n",
    "                                  # -b\n",
    "foo(1,2,3, \"-b\", \"-c\" , \"-quiet\") # 1, 2, 3\n",
    "                                  # -b -c -quiet"
   ]
  },
  {
   "cell_type": "raw",
   "metadata": {
    "slideshow": {
     "slide_type": "slide"
    }
   },
   "source": [
    "What if we want to user name every argument he will pass?"
   ]
  },
  {
   "cell_type": "code",
   "execution_count": 9,
   "metadata": {
    "slideshow": {
     "slide_type": "subslide"
    }
   },
   "outputs": [
    {
     "name": "stdout",
     "output_type": "stream",
     "text": [
      "{'age': 20, 'name': 'adam'}\n",
      "age = 20\n",
      "name = adam\n"
     ]
    }
   ],
   "source": [
    "def foo(**kwargs):\n",
    "    print(kwargs)\n",
    "    for (name, value) in kwargs.items():\n",
    "      print(name + \" = \" + str(value))\n",
    "    \n",
    "foo(name = \"adam\", age = 20)\n",
    "# {\"name\": \"adam\", \"age\": 20} kwargs is dictionary\n",
    "# name = adam\n",
    "# age = 20"
   ]
  },
  {
   "cell_type": "code",
   "execution_count": 11,
   "metadata": {
    "slideshow": {
     "slide_type": "subslide"
    }
   },
   "outputs": [
    {
     "name": "stdout",
     "output_type": "stream",
     "text": [
      "age = 50; scars = no; name = Adam; eyes = blue\n"
     ]
    }
   ],
   "source": [
    "class Person:\n",
    "    def __init__(self, name, age):\n",
    "      self.name = name\n",
    "      self.age = age\n",
    "    \n",
    "class Suspect(Person):\n",
    "    def __init__(self, name, age, **additionalInformations):\n",
    "      super().__init__(name, age)\n",
    "      [self.__setattr__(name, value) for (name, value) in additionalInformations.items()]\n",
    "    def __str__(self):\n",
    "      return \"; \".join([(itemName + \" = \" + str(itemValue)) for (itemName, itemValue) in self.__dict__.items()])\n",
    "    \n",
    "s = Suspect(\"Adam\", 50, eyes=\"blue\", scars=\"no\")\n",
    "print(s)\n",
    "# name = Adam; age = 50; eyes = blue; scars = no"
   ]
  },
  {
   "cell_type": "raw",
   "metadata": {
    "slideshow": {
     "slide_type": "slide"
    }
   },
   "source": [
    "III ArgumentParser"
   ]
  },
  {
   "cell_type": "code",
   "execution_count": 23,
   "metadata": {
    "slideshow": {
     "slide_type": "subslide"
    }
   },
   "outputs": [
    {
     "data": {
      "text/plain": [
       "_StoreAction(option_strings=['-w'], dest='w', nargs=None, const=None, default=None, type=None, choices=None, help='Write output to file', metavar=None)"
      ]
     },
     "execution_count": 23,
     "metadata": {},
     "output_type": "execute_result"
    }
   ],
   "source": [
    "#ArgumentParser provides way to handle arguments passed to script\n",
    "\n",
    "import argparse\n",
    "\n",
    "parser = argparse.ArgumentParser()\n",
    "parser.add_argument('-q', help=\"Run script in quiet mode\")\n",
    "parser.add_argument('-w', help=\"Write output to file\")\n",
    "\n",
    "# python3 ./script.py --help\n",
    "# optional arguments:\n",
    "#   -h, --help  show this help message and exit\n",
    "#   -q Q        Run script in quiet mode\n",
    "#   -w W        Write output to file"
   ]
  },
  {
   "cell_type": "code",
   "execution_count": 27,
   "metadata": {
    "slideshow": {
     "slide_type": "slide"
    }
   },
   "outputs": [
    {
     "data": {
      "text/plain": [
       "_StoreAction(option_strings=['-w'], dest='w', nargs=None, const=None, default=None, type=None, choices=None, help='Write output to file', metavar=None)"
      ]
     },
     "execution_count": 27,
     "metadata": {},
     "output_type": "execute_result"
    }
   ],
   "source": [
    "#Lets add some description to help\n",
    "import argparse\n",
    "parser = argparse.ArgumentParser(\n",
    "formatter_class = argparse.RawDescriptionHelpFormatter,\n",
    "    description=\"\"\"\n",
    "    ====================\n",
    "    Handle script output\n",
    "    ====================\n",
    "    \"\"\", \n",
    "    epilog=\"*** Use thes script carefully! ***\")\n",
    "\n",
    "parser.add_argument('-q', help=\"Run script in quiet mode\")\n",
    "parser.add_argument('-w', help=\"Write output to file\")\n",
    "#args = parser.parse_args()"
   ]
  },
  {
   "cell_type": "code",
   "execution_count": 31,
   "metadata": {
    "slideshow": {
     "slide_type": "subslide"
    }
   },
   "outputs": [],
   "source": [
    "  # usage: testPython.py [-h] [-q Q] [-w W]\n",
    "  # \n",
    "  # ====================\n",
    "  # Handle script output\n",
    "  # ====================\n",
    "  # \n",
    "  # optional arguments:\n",
    "  #   -h, --help  show this help message and exit\n",
    "  #   -q Q        Run script in quiet mode\n",
    "  #   -w W        Write output to file\n",
    "  # \n",
    "  # *** Use thes script carefully! ***"
   ]
  },
  {
   "cell_type": "raw",
   "metadata": {
    "slideshow": {
     "slide_type": "slide"
    }
   },
   "source": [
    "As you can see we've used a formatter_class, available argparse formatters are:\n",
    "  * class argparse.RawDescriptionHelpFormatter\n",
    "  * class argparse.RawTextHelpFormatter\n",
    "  * class argparse.ArgumentDefaultsHelpFormatter\n",
    "  * class argparse.MetavarTypeHelpFormatter"
   ]
  },
  {
   "cell_type": "code",
   "execution_count": 32,
   "metadata": {
    "slideshow": {
     "slide_type": "slide"
    }
   },
   "outputs": [
    {
     "data": {
      "text/plain": [
       "_StoreConstAction(option_strings=['-lh'], dest='store_const', nargs=0, const='[$USER]', default=None, type=None, choices=None, help='Add [$USER] to every log', metavar=None)"
      ]
     },
     "execution_count": 32,
     "metadata": {},
     "output_type": "execute_result"
    }
   ],
   "source": [
    "parser = argparse.ArgumentParser()\n",
    "parser.add_argument('-q', \n",
    "  dest=\"store_bool_value\", \n",
    "  help=\"Run script in quiet mode\", \n",
    "  action=\"store_true\")\n",
    "parser.add_argument('-m', \n",
    "  dest=\"store_int\", \n",
    "  help=\"Max output length\", \n",
    "  action=\"store\", \n",
    "  type=int)\n",
    "parser.add_argument('-lh', \n",
    "  dest=\"store_const\", \n",
    "  help=\"Add [$USER] to every log\", \n",
    "  action=\"store_const\", \n",
    "  const=\"[$USER]\")"
   ]
  },
  {
   "cell_type": "code",
   "execution_count": null,
   "metadata": {
    "slideshow": {
     "slide_type": "subslide"
    }
   },
   "outputs": [],
   "source": [
    "parser.add_argument('-lh', \n",
    "  dest=\"store_const\", \n",
    "  help=\"Add [$USER] to every log\", \n",
    "  action=\"store_const\", \n",
    "  const=\"[$USER]\")\n",
    "parser.add_argument('-w', \n",
    "  help=\"Write output to file\", \n",
    "  dest=\"store_true_default\", \n",
    "  action=\"store_true\", \n",
    "  default=False)\n",
    "parser.add_argument('--files', \n",
    "  nargs=\"+\", \n",
    "  help=\"Add log from another files to output\", \n",
    "  dest=\"store_multiple\", \n",
    "  action=\"store\", \n",
    "  default=[])\n",
    "parser.add_argument('-u', \n",
    "  dest=\"append\", \n",
    "  help=\"Users that can read logs\", \n",
    "  action=\"append\", \n",
    "  default=[])\n",
    "parser.add_argument('-j', \n",
    "  dest=\"append_jenkins_user\", \n",
    "  help=\"Allow Jenkins user to read logs\", \n",
    "  action=\"append_const\", \n",
    "  default=[], "
   ]
  },
  {
   "cell_type": "code",
   "execution_count": null,
   "metadata": {},
   "outputs": [],
   "source": []
  }
 ],
 "metadata": {
  "celltoolbar": "Slideshow",
  "kernelspec": {
   "display_name": "Python 3",
   "language": "python",
   "name": "python3"
  },
  "language_info": {
   "codemirror_mode": {
    "name": "ipython",
    "version": 3
   },
   "file_extension": ".py",
   "mimetype": "text/x-python",
   "name": "python",
   "nbconvert_exporter": "python",
   "pygments_lexer": "ipython3",
   "version": "3.5.2"
  }
 },
 "nbformat": 4,
 "nbformat_minor": 2
}
